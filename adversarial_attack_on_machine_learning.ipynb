{
  "nbformat": 4,
  "nbformat_minor": 0,
  "metadata": {
    "colab": {
      "provenance": [],
      "authorship_tag": "ABX9TyMOm7ub23nxKaXVEEnA3iFt",
      "include_colab_link": true
    },
    "kernelspec": {
      "name": "python3",
      "display_name": "Python 3"
    },
    "language_info": {
      "name": "python"
    }
  },
  "cells": [
    {
      "cell_type": "markdown",
      "metadata": {
        "id": "view-in-github",
        "colab_type": "text"
      },
      "source": [
        "<a href=\"https://colab.research.google.com/github/M4700F/CSE-4622-ML-Lab-Term-Project/blob/Maroof/adversarial_attack_on_machine_learning.ipynb\" target=\"_parent\"><img src=\"https://colab.research.google.com/assets/colab-badge.svg\" alt=\"Open In Colab\"/></a>"
      ]
    },
    {
      "cell_type": "code",
      "execution_count": 1,
      "metadata": {
        "id": "cKnsTbz5fo9U"
      },
      "outputs": [],
      "source": [
        "import os\n",
        "import numpy as np\n",
        "import matplotlib.pyplot as plt\n",
        "import tensorflow as tf\n",
        "from tensorflow.keras.preprocessing.image import load_img, img_to_array\n",
        "from sklearn.model_selection import train_test_split\n",
        "from google.colab import drive\n",
        "import random"
      ]
    },
    {
      "cell_type": "code",
      "source": [
        "drive.mount('/content/drive')"
      ],
      "metadata": {
        "colab": {
          "base_uri": "https://localhost:8080/"
        },
        "id": "s8zBAn-7jb8n",
        "outputId": "bd77d798-c85c-4bb1-ea86-a7d48594e015"
      },
      "execution_count": 4,
      "outputs": [
        {
          "output_type": "stream",
          "name": "stdout",
          "text": [
            "Drive already mounted at /content/drive; to attempt to forcibly remount, call drive.mount(\"/content/drive\", force_remount=True).\n"
          ]
        }
      ]
    },
    {
      "cell_type": "code",
      "source": [
        "IMG_SIZE = 224  # 224x224 as mentioned in paper\n",
        "NUM_SAMPLES = 500"
      ],
      "metadata": {
        "id": "fpqMkcQJjpLY"
      },
      "execution_count": 5,
      "outputs": []
    },
    {
      "cell_type": "code",
      "source": [
        "dataset_path = '/content/drive/MyDrive/data'\n",
        "train_path = os.path.join(dataset_path, 'train')\n",
        "test_path = os.path.join(dataset_path, 'test')"
      ],
      "metadata": {
        "id": "aOauVysvkmd2"
      },
      "execution_count": 6,
      "outputs": []
    },
    {
      "cell_type": "code",
      "source": [
        "train_benign_path = os.path.join(train_path, 'benign')\n",
        "train_malignant_path = os.path.join(train_path, 'malignant')\n",
        "test_benign_path = os.path.join(test_path, 'benign')\n",
        "test_malignant_path = os.path.join(test_path, 'malignant')"
      ],
      "metadata": {
        "id": "zi3lrmPqkpZt"
      },
      "execution_count": 7,
      "outputs": []
    },
    {
      "cell_type": "code",
      "source": [
        "print(\"Checking dataset structure...\")\n",
        "print(f\"Dataset folder exists: {os.path.exists(dataset_path)}\")\n",
        "print(f\"Train folder exists: {os.path.exists(train_path)}\")\n",
        "print(f\"Test folder exists: {os.path.exists(test_path)}\")"
      ],
      "metadata": {
        "colab": {
          "base_uri": "https://localhost:8080/"
        },
        "id": "iEBLGGvexXMu",
        "outputId": "0ed9f813-0ade-42ca-f6dd-f45adc1d0b9d"
      },
      "execution_count": 8,
      "outputs": [
        {
          "output_type": "stream",
          "name": "stdout",
          "text": [
            "Checking dataset structure...\n",
            "Dataset folder exists: True\n",
            "Train folder exists: True\n",
            "Test folder exists: True\n"
          ]
        }
      ]
    },
    {
      "cell_type": "code",
      "source": [
        "print(\"\\nTrain folders:\")\n",
        "print(f\"  Train/Benign exists: {os.path.exists(train_benign_path)}\")\n",
        "print(f\"  Train/Malignant exists: {os.path.exists(train_malignant_path)}\")\n",
        "\n",
        "print(\"\\nTest folders:\")\n",
        "print(f\"  Test/Benign exists: {os.path.exists(test_benign_path)}\")\n",
        "print(f\"  Test/Malignant exists: {os.path.exists(test_malignant_path)}\")"
      ],
      "metadata": {
        "colab": {
          "base_uri": "https://localhost:8080/"
        },
        "id": "D0at1ck4xiog",
        "outputId": "f0571a5b-a062-47ad-bba5-27e10fb4226c"
      },
      "execution_count": 9,
      "outputs": [
        {
          "output_type": "stream",
          "name": "stdout",
          "text": [
            "\n",
            "Train folders:\n",
            "  Train/Benign exists: True\n",
            "  Train/Malignant exists: True\n",
            "\n",
            "Test folders:\n",
            "  Test/Benign exists: True\n",
            "  Test/Malignant exists: True\n"
          ]
        }
      ]
    },
    {
      "cell_type": "code",
      "source": [
        "train_benign_count = len([f for f in os.listdir(train_benign_path) if f.endswith('.jpg')])\n",
        "print(f\"  Train/Benign images: {train_benign_count}\")\n",
        "\n",
        "train_malignant_count = len([f for f in os.listdir(train_malignant_path) if f.endswith('.jpg')])\n",
        "print(f\"  Train/Malignant images: {train_malignant_count}\")\n",
        "\n",
        "test_benign_count = len([f for f in os.listdir(test_benign_path) if f.endswith('.jpg')])\n",
        "print(f\"  Test/Benign images: {test_benign_count}\")\n",
        "\n",
        "test_malignant_count = len([f for f in os.listdir(test_malignant_path) if f.endswith('.jpg')])\n",
        "print(f\"  Test/Malignant images: {test_malignant_count}\")\n"
      ],
      "metadata": {
        "colab": {
          "base_uri": "https://localhost:8080/"
        },
        "id": "1tyh4tYWxkiN",
        "outputId": "faf20604-09cf-4d5a-f96f-d42779cc115c"
      },
      "execution_count": 10,
      "outputs": [
        {
          "output_type": "stream",
          "name": "stdout",
          "text": [
            "  Train/Benign images: 1440\n",
            "  Train/Malignant images: 1197\n",
            "  Test/Benign images: 360\n",
            "  Test/Malignant images: 300\n"
          ]
        }
      ]
    }
  ]
}